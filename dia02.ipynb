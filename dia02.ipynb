{
  "nbformat": 4,
  "nbformat_minor": 0,
  "metadata": {
    "colab": {
      "provenance": [],
      "authorship_tag": "ABX9TyP/oKzRqT9jq6+jdp2CqMnY",
      "include_colab_link": true
    },
    "kernelspec": {
      "name": "python3",
      "display_name": "Python 3"
    },
    "language_info": {
      "name": "python"
    }
  },
  "cells": [
    {
      "cell_type": "markdown",
      "metadata": {
        "id": "view-in-github",
        "colab_type": "text"
      },
      "source": [
        "<a href=\"https://colab.research.google.com/github/Frasson1/primeiro/blob/main/dia02.ipynb\" target=\"_parent\"><img src=\"https://colab.research.google.com/assets/colab-badge.svg\" alt=\"Open In Colab\"/></a>"
      ]
    },
    {
      "cell_type": "code",
      "execution_count": 21,
      "metadata": {
        "colab": {
          "base_uri": "https://localhost:8080/"
        },
        "id": "pkNUxte5o4x9",
        "outputId": "6375741e-9062-401f-b75d-6ec62b9a9267"
      },
      "outputs": [
        {
          "output_type": "stream",
          "name": "stdout",
          "text": [
            "Digite o número para calcular seu fatorial:4\n",
            "Calculando 4! =  4 x  3 x  2 x  1 = 24\n"
          ]
        }
      ],
      "source": [
        "from math import factorial\n",
        "\n",
        "n = int(input(\"Digite o número para calcular seu fatorial:\"))\n",
        "c = n\n",
        "f = 1\n",
        "print('Calculando {}! =  '. format(n), end='')\n",
        "\n",
        "while c > 0:\n",
        "  print('{} '.format(c), end='')\n",
        "  print('x  ' if c > 1 else '= ', end='')\n",
        "  f *= c\n",
        "  c -= 1\n",
        "\n",
        "print('{}'. format(f))"
      ]
    },
    {
      "cell_type": "code",
      "source": [
        "print(\"Gerador de PA\")\n",
        "\n",
        "primeiro = int(input(\"Primeiro termo:\"))\n",
        "razao = int(input('Razão da PA:'))\n",
        "termo = primeiro\n",
        "cont = 1\n",
        "total = 0\n",
        "mais = 10\n",
        "\n",
        "while mais != 0:\n",
        "  total += mais\n",
        "  while cont <= total:\n",
        "    print('{} - '.format (termo), end='')\n",
        "    termo += razao\n",
        "    cont += 1\n",
        "  print('PAUSA!')\n",
        "  mais = int(input(\"Quantos temos você quer mostrar mais?\"))\n",
        "print('Progressão finalizada com {} termos mostrados.'. format(total))\n",
        "print('FIM!')"
      ],
      "metadata": {
        "colab": {
          "base_uri": "https://localhost:8080/"
        },
        "id": "bPiYNWVEzPit",
        "outputId": "fd31d1d4-3bbb-4d29-8508-3eb31ec05132"
      },
      "execution_count": null,
      "outputs": [
        {
          "output_type": "stream",
          "name": "stdout",
          "text": [
            "Gerador de PA\n"
          ]
        }
      ]
    }
  ]
}
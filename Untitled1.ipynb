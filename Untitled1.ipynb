{
  "cells": [
    {
      "cell_type": "markdown",
      "metadata": {
        "id": "view-in-github",
        "colab_type": "text"
      },
      "source": [
        "<a href=\"https://colab.research.google.com/github/Frasson1/primeiro/blob/main/Untitled1.ipynb\" target=\"_parent\"><img src=\"https://colab.research.google.com/assets/colab-badge.svg\" alt=\"Open In Colab\"/></a>"
      ]
    },
    {
      "cell_type": "code",
      "execution_count": null,
      "metadata": {
        "colab": {
          "base_uri": "https://localhost:8080/"
        },
        "id": "Euizd3iZhyTU",
        "outputId": "ce369474-1eee-418c-e3df-2a89b43c1903"
      },
      "outputs": [
        {
          "name": "stdout",
          "output_type": "stream",
          "text": [
            "Informe seu sexo: [M/F]p\n",
            "Opção inválida, informe seu sexo:feminino\n",
            "Sexo F inserido com sucesso.\n"
          ]
        }
      ],
      "source": [
        "sexo = str(input('Informe seu sexo: [M/F]')).strip().upper()[0]\n",
        "\n",
        "while sexo not in 'MmFf':\n",
        "  sexo = str(input(\"Opção inválida, informe seu sexo:\")).strip ().upper()[0]\n",
        "print('Sexo {} inserido com sucesso.' . format(sexo))\n",
        "\n",
        "\n"
      ]
    },
    {
      "cell_type": "code",
      "execution_count": null,
      "metadata": {
        "colab": {
          "base_uri": "https://localhost:8080/"
        },
        "id": "g_OxoUTQwxK0",
        "outputId": "2a202dc1-0e21-418c-afce-c265397ce708"
      },
      "outputs": [
        {
          "output_type": "stream",
          "name": "stdout",
          "text": [
            "Sou seu computador, pensei agora em um número de 0 a 10\n",
            "Quer tentar adivinhar?\n",
            "Qual seu palpite:8\n",
            "Ainda não, é maior!\n",
            "Qual seu palpite:9\n",
            "Ainda não, é maior!\n",
            "Qual seu palpite:10\n",
            "Boa! Você acertou com 3 palpites\n"
          ]
        }
      ],
      "source": [
        "from random import randint\n",
        "computador = randint(0,10)\n",
        "print('Sou seu computador, pensei agora em um número de 0 a 10')\n",
        "print('Quer tentar adivinhar?')\n",
        "acertou = False\n",
        "palpites = 0\n",
        "while not acertou:\n",
        "  jogador = int(input('Qual seu palpite:'))\n",
        "  palpites += 1\n",
        "  if jogador == computador:\n",
        "    acertou = True\n",
        "  else:\n",
        "    if jogador < computador:\n",
        "      print('Ainda não, é maior!')\n",
        "    elif jogador > computador:\n",
        "      print(\"continue, é menos!\")\n",
        "print('Boa! Você acertou com {} palpites'. format(palpites))\n",
        "\n",
        "\n"
      ]
    },
    {
      "cell_type": "code",
      "source": [],
      "metadata": {
        "id": "vZ9oymRoDnqs"
      },
      "execution_count": null,
      "outputs": []
    }
  ],
  "metadata": {
    "colab": {
      "provenance": [],
      "authorship_tag": "ABX9TyNAplNOEttV/TN9SybHNjdO",
      "include_colab_link": true
    },
    "kernelspec": {
      "display_name": "Python 3",
      "name": "python3"
    },
    "language_info": {
      "name": "python"
    }
  },
  "nbformat": 4,
  "nbformat_minor": 0
}
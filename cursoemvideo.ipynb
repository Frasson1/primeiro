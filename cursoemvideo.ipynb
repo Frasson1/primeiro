{
  "nbformat": 4,
  "nbformat_minor": 0,
  "metadata": {
    "colab": {
      "provenance": [],
      "authorship_tag": "ABX9TyPtRL6SFvrDC3z6f9eIzMsq",
      "include_colab_link": true
    },
    "kernelspec": {
      "name": "python3",
      "display_name": "Python 3"
    },
    "language_info": {
      "name": "python"
    }
  },
  "cells": [
    {
      "cell_type": "markdown",
      "metadata": {
        "id": "view-in-github",
        "colab_type": "text"
      },
      "source": [
        "<a href=\"https://colab.research.google.com/github/Frasson1/primeiro/blob/main/cursoemvideo.ipynb\" target=\"_parent\"><img src=\"https://colab.research.google.com/assets/colab-badge.svg\" alt=\"Open In Colab\"/></a>"
      ]
    },
    {
      "cell_type": "code",
      "execution_count": null,
      "metadata": {
        "id": "Z2I_84_Dasyn"
      },
      "outputs": [],
      "source": [
        "\n",
        "n1= int(input(\"Digite o primeiro valor:\"))\n",
        "n2 = int(input(\"Digite o segundo valor:\"))\n",
        "opcao = 0\n",
        "\n",
        "while opcao != 5:\n",
        "  print('''  [1] somar\n",
        "  [2] multiplicar\n",
        "  [3] maior\n",
        "  [4] novos números\n",
        "  [5] sair do programa''')\n",
        "  opcao = int(input(\">>>>>>> Qual a sua opção?\"))\n",
        "  if opcao == 1:\n",
        "    soma = n1 + n2\n",
        "    print(\"A soma entre {} + {} é {}\". format(n1,n2, soma))\n",
        "  elif opcao == 2:\n",
        "    produto = n1*n2\n",
        "    print(\"O resultado entre {} x {} é {}\". format(n1,n2,produto))\n",
        "  elif opcao == 3:\n",
        "    if n1 > n2:\n",
        "      maior = n1\n",
        "    else:\n",
        "      maior = n2\n",
        "    print(\" Entre {} e {} o maior número é {}\". format (n1, n2, maior))\n",
        "  elif opcao == 4:\n",
        "    print(\"Informe os números novamente:\")\n",
        "    n1 = int(input(\"Digite o primeiro valor:\"))\n",
        "    n2 = int(input(\"Digite o segundo valor:\"))\n",
        "  elif opcao == 5:\n",
        "    print(\"Finalizando!\")\n",
        "\n",
        "\n",
        "  else:\n",
        "    print(\"Opção inválida. Tente novamente!\")\n",
        "\n",
        "print(\"Fim do programa. Obrigada!\")\n",
        "\n",
        "\n"
      ]
    },
    {
      "cell_type": "code",
      "source": [],
      "metadata": {
        "id": "cySEoV53nzaH"
      },
      "execution_count": null,
      "outputs": []
    }
  ]
}
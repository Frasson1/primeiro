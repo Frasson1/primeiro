{
  "nbformat": 4,
  "nbformat_minor": 0,
  "metadata": {
    "colab": {
      "provenance": [],
      "mount_file_id": "1BfuB2bcBecBzYg80SD-r4fTxdETxQmcd",
      "authorship_tag": "ABX9TyOtkrSqFTW4ahQzebCf7iUJ",
      "include_colab_link": true
    },
    "kernelspec": {
      "name": "python3",
      "display_name": "Python 3"
    },
    "language_info": {
      "name": "python"
    }
  },
  "cells": [
    {
      "cell_type": "markdown",
      "metadata": {
        "id": "view-in-github",
        "colab_type": "text"
      },
      "source": [
        "<a href=\"https://colab.research.google.com/github/Frasson1/primeiro/blob/main/automa%C3%A7%C3%A3o_python.ipynb\" target=\"_parent\"><img src=\"https://colab.research.google.com/assets/colab-badge.svg\" alt=\"Open In Colab\"/></a>"
      ]
    },
    {
      "cell_type": "code",
      "execution_count": 8,
      "metadata": {
        "id": "WGAcJ4qmfBbz"
      },
      "outputs": [],
      "source": [
        "\n",
        "import PyPDF2\n",
        "import os\n",
        "\n",
        "merger = PyPDF2.PdfMerger()\n",
        "lista_arquivos = os.listdir(\"/content/drive/MyDrive/arquivos-20240320T192518Z-001\")\n",
        "lista_arquivos.sort()\n",
        "\n",
        "for arquivo in lista_arquivos:\n",
        "  if \".pdf\" in arquivo:\n",
        "    merger.append(f'arquivos/{arquivo}')\n",
        "\n",
        "merger.write(\"PDF final.pdf\")\n"
      ]
    }
  ]
}